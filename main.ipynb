{
 "cells": [
  {
   "cell_type": "code",
   "execution_count": 6,
   "metadata": {},
   "outputs": [
    {
     "name": "stdout",
     "output_type": "stream",
     "text": [
      "Collecting stable_baselines3\n",
      "  Downloading stable_baselines3-2.4.1-py3-none-any.whl.metadata (4.5 kB)\n",
      "Collecting gymnasium<1.1.0,>=0.29.1 (from stable_baselines3)\n",
      "  Downloading gymnasium-1.0.0-py3-none-any.whl.metadata (9.5 kB)\n",
      "Requirement already satisfied: numpy<2.0,>=1.20 in c:\\users\\shaya\\anaconda3\\envs\\workingenv38\\lib\\site-packages (from stable_baselines3) (1.24.3)\n",
      "Requirement already satisfied: torch>=1.13 in c:\\users\\shaya\\anaconda3\\envs\\workingenv38\\lib\\site-packages (from stable_baselines3) (2.4.1)\n",
      "Requirement already satisfied: cloudpickle in c:\\users\\shaya\\anaconda3\\envs\\workingenv38\\lib\\site-packages (from stable_baselines3) (3.1.0)\n",
      "Requirement already satisfied: pandas in c:\\users\\shaya\\anaconda3\\envs\\workingenv38\\lib\\site-packages (from stable_baselines3) (2.0.3)\n",
      "Requirement already satisfied: matplotlib in c:\\users\\shaya\\anaconda3\\envs\\workingenv38\\lib\\site-packages (from stable_baselines3) (3.7.5)\n",
      "Requirement already satisfied: typing-extensions>=4.3.0 in c:\\users\\shaya\\anaconda3\\envs\\workingenv38\\lib\\site-packages (from gymnasium<1.1.0,>=0.29.1->stable_baselines3) (4.12.2)\n",
      "Requirement already satisfied: farama-notifications>=0.0.1 in c:\\users\\shaya\\anaconda3\\envs\\workingenv38\\lib\\site-packages (from gymnasium<1.1.0,>=0.29.1->stable_baselines3) (0.0.4)\n",
      "Requirement already satisfied: importlib-metadata>=4.8.0 in c:\\users\\shaya\\anaconda3\\envs\\workingenv38\\lib\\site-packages (from gymnasium<1.1.0,>=0.29.1->stable_baselines3) (8.5.0)\n",
      "Requirement already satisfied: filelock in c:\\users\\shaya\\anaconda3\\envs\\workingenv38\\lib\\site-packages (from torch>=1.13->stable_baselines3) (3.16.1)\n",
      "Requirement already satisfied: sympy in c:\\users\\shaya\\anaconda3\\envs\\workingenv38\\lib\\site-packages (from torch>=1.13->stable_baselines3) (1.13.3)\n",
      "Requirement already satisfied: networkx in c:\\users\\shaya\\anaconda3\\envs\\workingenv38\\lib\\site-packages (from torch>=1.13->stable_baselines3) (3.1)\n",
      "Requirement already satisfied: jinja2 in c:\\users\\shaya\\anaconda3\\envs\\workingenv38\\lib\\site-packages (from torch>=1.13->stable_baselines3) (3.1.4)\n",
      "Requirement already satisfied: fsspec in c:\\users\\shaya\\anaconda3\\envs\\workingenv38\\lib\\site-packages (from torch>=1.13->stable_baselines3) (2024.9.0)\n",
      "Requirement already satisfied: contourpy>=1.0.1 in c:\\users\\shaya\\anaconda3\\envs\\workingenv38\\lib\\site-packages (from matplotlib->stable_baselines3) (1.1.1)\n",
      "Requirement already satisfied: cycler>=0.10 in c:\\users\\shaya\\anaconda3\\envs\\workingenv38\\lib\\site-packages (from matplotlib->stable_baselines3) (0.12.1)\n",
      "Requirement already satisfied: fonttools>=4.22.0 in c:\\users\\shaya\\anaconda3\\envs\\workingenv38\\lib\\site-packages (from matplotlib->stable_baselines3) (4.54.1)\n",
      "Requirement already satisfied: kiwisolver>=1.0.1 in c:\\users\\shaya\\anaconda3\\envs\\workingenv38\\lib\\site-packages (from matplotlib->stable_baselines3) (1.4.7)\n",
      "Requirement already satisfied: packaging>=20.0 in c:\\users\\shaya\\anaconda3\\envs\\workingenv38\\lib\\site-packages (from matplotlib->stable_baselines3) (24.1)\n",
      "Requirement already satisfied: pillow>=6.2.0 in c:\\users\\shaya\\anaconda3\\envs\\workingenv38\\lib\\site-packages (from matplotlib->stable_baselines3) (10.4.0)\n",
      "Requirement already satisfied: pyparsing>=2.3.1 in c:\\users\\shaya\\anaconda3\\envs\\workingenv38\\lib\\site-packages (from matplotlib->stable_baselines3) (3.1.4)\n",
      "Requirement already satisfied: python-dateutil>=2.7 in c:\\users\\shaya\\anaconda3\\envs\\workingenv38\\lib\\site-packages (from matplotlib->stable_baselines3) (2.9.0.post0)\n",
      "Requirement already satisfied: importlib-resources>=3.2.0 in c:\\users\\shaya\\anaconda3\\envs\\workingenv38\\lib\\site-packages (from matplotlib->stable_baselines3) (6.4.5)\n",
      "Requirement already satisfied: pytz>=2020.1 in c:\\users\\shaya\\anaconda3\\envs\\workingenv38\\lib\\site-packages (from pandas->stable_baselines3) (2024.1)\n",
      "Requirement already satisfied: tzdata>=2022.1 in c:\\users\\shaya\\anaconda3\\envs\\workingenv38\\lib\\site-packages (from pandas->stable_baselines3) (2023.3)\n",
      "Requirement already satisfied: zipp>=3.20 in c:\\users\\shaya\\anaconda3\\envs\\workingenv38\\lib\\site-packages (from importlib-metadata>=4.8.0->gymnasium<1.1.0,>=0.29.1->stable_baselines3) (3.20.2)\n",
      "Requirement already satisfied: six>=1.5 in c:\\users\\shaya\\anaconda3\\envs\\workingenv38\\lib\\site-packages (from python-dateutil>=2.7->matplotlib->stable_baselines3) (1.16.0)\n",
      "Requirement already satisfied: MarkupSafe>=2.0 in c:\\users\\shaya\\anaconda3\\envs\\workingenv38\\lib\\site-packages (from jinja2->torch>=1.13->stable_baselines3) (2.1.5)\n",
      "Requirement already satisfied: mpmath<1.4,>=1.1.0 in c:\\users\\shaya\\anaconda3\\envs\\workingenv38\\lib\\site-packages (from sympy->torch>=1.13->stable_baselines3) (1.3.0)\n",
      "Downloading stable_baselines3-2.4.1-py3-none-any.whl (183 kB)\n",
      "Downloading gymnasium-1.0.0-py3-none-any.whl (958 kB)\n",
      "   ---------------------------------------- 0.0/958.1 kB ? eta -:--:--\n",
      "   ---------------------------------------- 958.1/958.1 kB 8.9 MB/s eta 0:00:00\n",
      "Installing collected packages: gymnasium, stable_baselines3\n",
      "  Attempting uninstall: gymnasium\n",
      "    Found existing installation: gymnasium 1.1.1\n",
      "    Uninstalling gymnasium-1.1.1:\n",
      "      Successfully uninstalled gymnasium-1.1.1\n",
      "Successfully installed gymnasium-1.0.0 stable_baselines3-2.4.1\n"
     ]
    }
   ],
   "source": [
    "!pip install stable_baselines3"
   ]
  },
  {
   "cell_type": "code",
   "execution_count": 1,
   "metadata": {},
   "outputs": [],
   "source": [
    "import warnings\n",
    "warnings.filterwarnings('ignore')\n",
    "\n",
    "import os\n",
    "import csv\n",
    "import numpy as np\n",
    "import pandas as pd\n",
    "import gymnasium as gym\n",
    "import statsmodels.api as sm\n",
    "\n",
    "from gymnasium import spaces\n",
    "from datetime import date\n",
    "from envs.env_gridsearch import kellycriterion\n",
    "from sklearn.model_selection import train_test_split\n",
    "from stable_baselines3.common.vec_env import DummyVecEnv\n",
    "from utils.read2df import read2df\n",
    "\n",
    "os.makedirs(\"result/rl-restrict\", exist_ok=True)\n",
    "\n",
    "for root, dirs, files in os.walk(f\"result/rl-restrict/\"):\n",
    "    for file in files:\n",
    "        os.remove(os.path.join(root, file))"
   ]
  },
  {
   "cell_type": "code",
   "execution_count": null,
   "metadata": {},
   "outputs": [],
   "source": [
    "symbols = ['BTCUSD', 'BTCGBP', 'BTCRUB', 'BTCEUR',]\n",
    "start_date = '2024-12-31'\n",
    "trade_date = '2025-01-01'\n",
    "folder = 'result'\n",
    "# freqs = {'1h':60, '2h':120, '4h':240, '6h':360, '8h':480, '12h':720, '1d':1440}\n",
    "freqs = {'3m':3, '5m':5, '15m':15, '30m':30}"
   ]
  },
  {
   "cell_type": "code",
   "execution_count": 5,
   "metadata": {},
   "outputs": [
    {
     "name": "stdout",
     "output_type": "stream",
     "text": [
      "^C\n"
     ]
    }
   ],
   "source": [
    "!python binance-public-data/python/download-kline.py \\\n",
    "        -s {\" \".join(symbols)} -i {\" \".join(list(freqs.keys()))} -startDate {start_date} -endDate {trade_date} -t spot -skip-daily 1 -folder {folder}"
   ]
  },
  {
   "cell_type": "code",
   "execution_count": null,
   "metadata": {},
   "outputs": [
    {
     "name": "stdout",
     "output_type": "stream",
     "text": [
      "here\n",
      "not args dates\n",
      "skip monthly 0\n",
      "Found 2 symbols\n",
      "[1/2] - start download monthly BTCUSDT klines \n",
      "\n",
      "File Download: C:\\Users\\shaya\\OneDrive\\Documents\\RLPairTradingProjectShayan\\pair-trading-RLenvs\\binance-public-data\\python\\data/spot/monthly/klines/BTCUSDT/30m/2024-12-31_2025-01-01\\BTCUSDT-30m-2025-01.zip\n",
      "\n",
      "[##................................................]\n",
      "[####..............................................]\n",
      "[#######...........................................]\n",
      "[#########.........................................]\n",
      "[###########.......................................]\n",
      "[##############....................................]\n",
      "[################..................................]\n",
      "[##################................................]\n",
      "[#####################.............................]\n",
      "[#######################...........................]\n",
      "[##########################........................]\n",
      "[############################......................]\n",
      "[##############################....................]\n",
      "[#################################.................]\n",
      "[###################################...............]\n",
      "[#####################################.............]\n",
      "[########################################..........]\n",
      "[##########################################........]\n",
      "[############################################......]\n",
      "[###############################################...]\n",
      "[#################################################.]\n",
      "[##################################################][2/2] - start download monthly ETHUSDT klines \n",
      "\n",
      "File Download: C:\\Users\\shaya\\OneDrive\\Documents\\RLPairTradingProjectShayan\\pair-trading-RLenvs\\binance-public-data\\python\\data/spot/monthly/klines/ETHUSDT/30m/2024-12-31_2025-01-01\\ETHUSDT-30m-2025-01.zip\n",
      "\n",
      "[##................................................]\n",
      "[#####.............................................]\n",
      "[#######...........................................]\n",
      "[##########........................................]\n",
      "[############......................................]\n",
      "[###############...................................]\n",
      "[#################.................................]\n",
      "[####################..............................]\n",
      "[######################............................]\n",
      "[#########################.........................]\n",
      "[###########################.......................]\n",
      "[##############################....................]\n",
      "[################################..................]\n",
      "[###################################...............]\n",
      "[#####################################.............]\n",
      "[########################################..........]\n",
      "[##########################################........]\n",
      "[#############################################.....]\n",
      "[###############################################...]\n",
      "[##################################################]\n"
     ]
    }
   ],
   "source": [
    "!python binance-public-data/python/download-kline.py -t spot -s BTCUSDT ETHUSDT -i 30m -skip-daily 1 -startDate 2024-12-31 -endDate 2025-01-01 -folder result"
   ]
  },
  {
   "cell_type": "code",
   "execution_count": null,
   "metadata": {},
   "outputs": [],
   "source": [
    "%%capture\n",
    "if symbols is None:\n",
    "    !python binance-public-data/python/download-kline.py \\\n",
    "        -i {\" \".join(list(freqs.keys()))} -startDate {start_date} -t spot -skip-daily 1 -folder {folder}\n",
    "else:\n",
    "    !python binance-public-data/python/download-kline.py \\\n",
    "        -s {\" \".join(symbols)} -i {\" \".join(list(freqs.keys()))} -startDate {start_date} -t spot -skip-daily 1 -folder {folder}"
   ]
  },
  {
   "cell_type": "code",
   "execution_count": 13,
   "metadata": {},
   "outputs": [
    {
     "ename": "FileNotFoundError",
     "evalue": "[Errno 2] No such file or directory: 'result/cointncorr.pickle'",
     "output_type": "error",
     "traceback": [
      "\u001b[1;31m---------------------------------------------------------------------------\u001b[0m",
      "\u001b[1;31mFileNotFoundError\u001b[0m                         Traceback (most recent call last)",
      "Cell \u001b[1;32mIn[13], line 5\u001b[0m\n\u001b[0;32m      1\u001b[0m \u001b[38;5;28;01mimport\u001b[39;00m \u001b[38;5;21;01mpickle\u001b[39;00m\n\u001b[0;32m      3\u001b[0m dfs \u001b[38;5;241m=\u001b[39m read2df(symbols, freqs)\n\u001b[1;32m----> 5\u001b[0m \u001b[38;5;28;01mwith\u001b[39;00m \u001b[38;5;28;43mopen\u001b[39;49m\u001b[43m(\u001b[49m\u001b[38;5;124;43m'\u001b[39;49m\u001b[38;5;124;43mresult/cointncorr.pickle\u001b[39;49m\u001b[38;5;124;43m'\u001b[39;49m\u001b[43m,\u001b[49m\u001b[43m \u001b[49m\u001b[38;5;124;43m'\u001b[39;49m\u001b[38;5;124;43mrb\u001b[39;49m\u001b[38;5;124;43m'\u001b[39;49m\u001b[43m)\u001b[49m \u001b[38;5;28;01mas\u001b[39;00m pk:\n\u001b[0;32m      6\u001b[0m     data \u001b[38;5;241m=\u001b[39m pickle\u001b[38;5;241m.\u001b[39mload(pk)\n\u001b[0;32m      8\u001b[0m freq_position \u001b[38;5;241m=\u001b[39m \u001b[38;5;28mlist\u001b[39m(freqs\u001b[38;5;241m.\u001b[39mkeys())\u001b[38;5;241m.\u001b[39mindex(data[\u001b[38;5;241m1\u001b[39m])\n",
      "File \u001b[1;32mc:\\Users\\shaya\\anaconda3\\envs\\WorkingEnv38\\lib\\site-packages\\IPython\\core\\interactiveshell.py:284\u001b[0m, in \u001b[0;36m_modified_open\u001b[1;34m(file, *args, **kwargs)\u001b[0m\n\u001b[0;32m    277\u001b[0m \u001b[38;5;28;01mif\u001b[39;00m file \u001b[38;5;129;01min\u001b[39;00m {\u001b[38;5;241m0\u001b[39m, \u001b[38;5;241m1\u001b[39m, \u001b[38;5;241m2\u001b[39m}:\n\u001b[0;32m    278\u001b[0m     \u001b[38;5;28;01mraise\u001b[39;00m \u001b[38;5;167;01mValueError\u001b[39;00m(\n\u001b[0;32m    279\u001b[0m         \u001b[38;5;124mf\u001b[39m\u001b[38;5;124m\"\u001b[39m\u001b[38;5;124mIPython won\u001b[39m\u001b[38;5;124m'\u001b[39m\u001b[38;5;124mt let you open fd=\u001b[39m\u001b[38;5;132;01m{\u001b[39;00mfile\u001b[38;5;132;01m}\u001b[39;00m\u001b[38;5;124m by default \u001b[39m\u001b[38;5;124m\"\u001b[39m\n\u001b[0;32m    280\u001b[0m         \u001b[38;5;124m\"\u001b[39m\u001b[38;5;124mas it is likely to crash IPython. If you know what you are doing, \u001b[39m\u001b[38;5;124m\"\u001b[39m\n\u001b[0;32m    281\u001b[0m         \u001b[38;5;124m\"\u001b[39m\u001b[38;5;124myou can use builtins\u001b[39m\u001b[38;5;124m'\u001b[39m\u001b[38;5;124m open.\u001b[39m\u001b[38;5;124m\"\u001b[39m\n\u001b[0;32m    282\u001b[0m     )\n\u001b[1;32m--> 284\u001b[0m \u001b[38;5;28;01mreturn\u001b[39;00m \u001b[43mio_open\u001b[49m\u001b[43m(\u001b[49m\u001b[43mfile\u001b[49m\u001b[43m,\u001b[49m\u001b[43m \u001b[49m\u001b[38;5;241;43m*\u001b[39;49m\u001b[43margs\u001b[49m\u001b[43m,\u001b[49m\u001b[43m \u001b[49m\u001b[38;5;241;43m*\u001b[39;49m\u001b[38;5;241;43m*\u001b[39;49m\u001b[43mkwargs\u001b[49m\u001b[43m)\u001b[49m\n",
      "\u001b[1;31mFileNotFoundError\u001b[0m: [Errno 2] No such file or directory: 'result/cointncorr.pickle'"
     ]
    }
   ],
   "source": [
    "import pickle\n",
    "\n",
    "dfs = read2df(symbols, freqs)\n",
    "\n",
    "with open('result/cointncorr.pickle', 'rb') as pk:\n",
    "    data = pickle.load(pk)\n",
    "\n",
    "freq_position = list(freqs.keys()).index(data[1])\n",
    "\n",
    "df0 = dfs[freq_position][dfs[freq_position]['tic']==data[0][0]].reset_index(drop=True)\n",
    "df1 = dfs[freq_position][dfs[freq_position]['tic']==data[0][1]].reset_index(drop=True)"
   ]
  },
  {
   "cell_type": "code",
   "execution_count": null,
   "metadata": {},
   "outputs": [],
   "source": []
  }
 ],
 "metadata": {
  "kernelspec": {
   "display_name": "WorkingEnv38",
   "language": "python",
   "name": "python3"
  },
  "language_info": {
   "codemirror_mode": {
    "name": "ipython",
    "version": 3
   },
   "file_extension": ".py",
   "mimetype": "text/x-python",
   "name": "python",
   "nbconvert_exporter": "python",
   "pygments_lexer": "ipython3",
   "version": "3.8.19"
  }
 },
 "nbformat": 4,
 "nbformat_minor": 2
}
